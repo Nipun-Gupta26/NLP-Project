{
  "cells": [
    {
      "cell_type": "code",
      "execution_count": 2,
      "metadata": {
        "id": "FkzjUSo2s13P"
      },
      "outputs": [],
      "source": [
        "import pickle\n",
        "from tqdm import tqdm\n",
        "import torch\n",
        "import torch.nn as nn\n",
        "import torch.nn.functional as F\n",
        "from torch.utils.data import DataLoader, Dataset\n",
        "import numpy as np\n",
        "from sklearn.metrics import accuracy_score, f1_score\n",
        "import matplotlib.pyplot as plt"
      ]
    },
    {
      "cell_type": "markdown",
      "metadata": {
        "id": "0gE7OJsmtaNm"
      },
      "source": [
        "## Co-Attention model"
      ]
    },
    {
      "cell_type": "code",
      "execution_count": 3,
      "metadata": {
        "id": "RDa5tHqNtRNu"
      },
      "outputs": [],
      "source": [
        "class CoAttentionModel(nn.Module):\n",
        "    def __init__(self, embed_dim, num_labels):\n",
        "        super(CoAttentionModel, self).__init__()\n",
        "        self.embed_dim = embed_dim\n",
        "        self.num_labels = num_labels\n",
        "\n",
        "        self.W_b = nn.Parameter(torch.Tensor(embed_dim, embed_dim))\n",
        "        nn.init.xavier_uniform_(self.W_b)\n",
        "\n",
        "        self.transform1 = nn.Sequential(\n",
        "            nn.Linear(embed_dim, embed_dim),\n",
        "            nn.ReLU(),\n",
        "            nn.Dropout(0.1)\n",
        "        )\n",
        "        self.transform2 = nn.Sequential(\n",
        "            nn.Linear(embed_dim, embed_dim),\n",
        "            nn.ReLU(),\n",
        "            nn.Dropout(0.1)\n",
        "        )\n",
        "\n",
        "        self.classifier = nn.Sequential(\n",
        "            nn.Linear(embed_dim, 512),\n",
        "            nn.ReLU(),\n",
        "            nn.Dropout(0.1),\n",
        "            nn.Linear(512, num_labels)\n",
        "        )\n",
        "\n",
        "        self.batch_norm = nn.BatchNorm1d(embed_dim)\n",
        "\n",
        "    def forward(self, x1, x2):\n",
        "\n",
        "        x1_transformed = self.transform1(x1)\n",
        "        x2_transformed = self.transform2(x2)\n",
        "\n",
        "        affinity = torch.matmul(x1_transformed, self.W_b)\n",
        "        affinity = torch.matmul(affinity, x2_transformed.transpose(1, 2))\n",
        "\n",
        "        attention_weights1 = F.softmax(affinity, dim=2)\n",
        "        attention_weights2 = F.softmax(affinity.transpose(1, 2), dim=2)\n",
        "\n",
        "        attended_features1 = torch.matmul(attention_weights1, x2_transformed)\n",
        "        attended_features2 = torch.matmul(attention_weights2, x1_transformed)\n",
        "\n",
        "        attended_features = attended_features1 + attended_features2\n",
        "        attended_features = self.batch_norm(attended_features.permute(0, 2, 1)).permute(0, 2, 1)\n",
        "        attended_features = attended_features.mean(dim=1)\n",
        "\n",
        "        logits = self.classifier(attended_features)\n",
        "\n",
        "        return logits"
      ]
    },
    {
      "cell_type": "code",
      "execution_count": 4,
      "metadata": {
        "id": "_3EOsvjatel3"
      },
      "outputs": [],
      "source": [
        "co_attention_model = CoAttentionModel(embed_dim=768, num_labels=21)"
      ]
    },
    {
      "cell_type": "code",
      "execution_count": 5,
      "metadata": {
        "id": "Oum8QgCLtl3M"
      },
      "outputs": [],
      "source": [
        "co_attention_model = torch.load('/content/drive/MyDrive/NLP/Project/Novelty_models/Co Attention Model New/CoAttentionModel.pt')"
      ]
    },
    {
      "cell_type": "markdown",
      "metadata": {
        "id": "YcAQwzw3utcl"
      },
      "source": [
        "## Cross Attention Model"
      ]
    },
    {
      "cell_type": "code",
      "execution_count": 6,
      "metadata": {
        "id": "k-ESl_30uu5h"
      },
      "outputs": [],
      "source": [
        "class CrossAttentionModel(nn.Module):\n",
        "\n",
        "    def __init__(self, embed_dim, num_labels):\n",
        "        super(CrossAttentionModel, self).__init__()\n",
        "        self.embed_dim = embed_dim\n",
        "        self.num_labels = num_labels\n",
        "\n",
        "        self.attention1 = nn.MultiheadAttention(embed_dim, num_heads=8, batch_first=True, dropout=0.1)\n",
        "        self.attention2 = nn.MultiheadAttention(embed_dim, num_heads=8, batch_first=True, dropout=0.1)\n",
        "\n",
        "        self.transform1 = nn.Sequential(\n",
        "            nn.Linear(embed_dim, embed_dim),\n",
        "            nn.ReLU(),\n",
        "            nn.Dropout(0.1)\n",
        "        )\n",
        "        self.transform2 = nn.Sequential(\n",
        "            nn.Linear(embed_dim, embed_dim),\n",
        "            nn.ReLU(),\n",
        "            nn.Dropout(0.1)\n",
        "        )\n",
        "\n",
        "        self.classifier = nn.Sequential(\n",
        "            nn.Linear(embed_dim, 512),\n",
        "            nn.ReLU(),\n",
        "            nn.Dropout(0.1),\n",
        "            nn.Linear(512, num_labels)\n",
        "        )\n",
        "\n",
        "        self.batch_norm = nn.BatchNorm1d(embed_dim)\n",
        "\n",
        "    def forward(self, x1, x2):\n",
        "\n",
        "        x1_transformed = self.transform1(x1)\n",
        "        x2_transformed = self.transform2(x2)\n",
        "\n",
        "        attended_features1, _ = self.attention1(x1_transformed, x2_transformed, x2_transformed)\n",
        "        attended_features2, _ = self.attention2(x2_transformed, x1_transformed, x1_transformed)\n",
        "\n",
        "        attended_features = attended_features1 + attended_features2\n",
        "        attended_features = self.batch_norm(attended_features.permute(0, 2, 1)).permute(0, 2, 1)\n",
        "        attended_features = attended_features.mean(dim=1)\n",
        "\n",
        "        logits = self.classifier(attended_features)\n",
        "\n",
        "        return logits"
      ]
    },
    {
      "cell_type": "code",
      "execution_count": 7,
      "metadata": {
        "id": "bKdRPlUmu0zW"
      },
      "outputs": [],
      "source": [
        "cross_attention_model = CrossAttentionModel(embed_dim=768, num_labels=21)"
      ]
    },
    {
      "cell_type": "code",
      "execution_count": 8,
      "metadata": {
        "id": "9jq53DBNu48h"
      },
      "outputs": [],
      "source": [
        "cross_attention_model = torch.load('/content/drive/MyDrive/NLP/Project/Novelty_models/Cross Attention Model New/CrossAttentionModel.pt')"
      ]
    },
    {
      "cell_type": "markdown",
      "metadata": {
        "id": "3lyN4apzvCv4"
      },
      "source": [
        "## Testing"
      ]
    },
    {
      "cell_type": "code",
      "execution_count": 9,
      "metadata": {
        "id": "CMWWoJ8IvDmH"
      },
      "outputs": [],
      "source": [
        "langs = ['en', 'es', 'de', 'bg', 'hu', 'lv']"
      ]
    },
    {
      "cell_type": "code",
      "execution_count": 13,
      "metadata": {
        "id": "0WS8VYJ8vIfo"
      },
      "outputs": [],
      "source": [
        "class MyDataset(Dataset):\n",
        "    def __init__(self, adapter_embeds, nmt_embeds, labels):\n",
        "        self.adapter_embeds = adapter_embeds\n",
        "        self.nmt_embeds = nmt_embeds\n",
        "        self.labels = labels\n",
        "\n",
        "    def __len__(self):\n",
        "        return len(self.labels)\n",
        "\n",
        "    def __getitem__(self, idx):\n",
        "        return self.adapter_embeds[idx], self.nmt_embeds[idx], self.labels[idx]"
      ]
    },
    {
      "cell_type": "code",
      "execution_count": 16,
      "metadata": {
        "id": "za2pAefqvow_"
      },
      "outputs": [],
      "source": [
        "adapter_embeddings = {}\n",
        "nmt_embeddings = {}\n",
        "labels = {}\n",
        "\n",
        "for i in langs:\n",
        "    try:\n",
        "        adapter_embedding = pickle.load(open(f'/content/drive/MyDrive/NLP/Project/New_test_embeddings/adapter_embeddings_{i}.pkl', 'rb'))\n",
        "        nmt_embedding = pickle.load(open(f'/content/drive/MyDrive/NLP/Project/New_test_embeddings/nmt_embeddings_{i}.pkl', 'rb'))\n",
        "        label = pickle.load(open(f'/content/drive/MyDrive/NLP/Project/New_test_embeddings/cpu_labels_{i}.pkl', 'rb'))\n",
        "\n",
        "        adapter_embeddings[i] = torch.cat(adapter_embedding, dim = 0)\n",
        "        nmt_embeddings[i] = torch.cat(nmt_embedding, dim = 0)\n",
        "        labels[i] = torch.cat(label, dim = 0)\n",
        "    except Exception as e:\n",
        "        print(e)\n",
        "        print(\"Language:\", i)"
      ]
    },
    {
      "cell_type": "code",
      "execution_count": 17,
      "metadata": {
        "colab": {
          "base_uri": "https://localhost:8080/"
        },
        "id": "f3C8sPfbwDOw",
        "outputId": "6836b8bd-a1d7-4dec-882e-015114f58082"
      },
      "outputs": [
        {
          "name": "stdout",
          "output_type": "stream",
          "text": [
            "en: 500, 500, 500\n",
            "es: 500, 500, 500\n",
            "de: 500, 500, 500\n",
            "bg: 500, 500, 500\n",
            "hu: 500, 500, 500\n",
            "lv: 478, 478, 478\n"
          ]
        }
      ],
      "source": [
        "for i in langs:\n",
        "    print(f\"{i}: {len(adapter_embeddings[i])}, {len(nmt_embeddings[i])}, {len(labels[i])}\")"
      ]
    },
    {
      "cell_type": "code",
      "execution_count": 64,
      "metadata": {
        "id": "b9QseCjAyTVu"
      },
      "outputs": [],
      "source": [
        "test_datasets = {}\n",
        "for i in langs:\n",
        "    test_datasets[i] = MyDataset(adapter_embeddings[i], nmt_embeddings[i], labels[i])"
      ]
    },
    {
      "cell_type": "code",
      "execution_count": 65,
      "metadata": {
        "id": "Nho5EOCXycZs"
      },
      "outputs": [],
      "source": [
        "test_dataloaders = {}\n",
        "for i in langs:\n",
        "    test_dataloaders[i] = DataLoader(test_datasets[i], batch_size=32, shuffle=True)"
      ]
    },
    {
      "cell_type": "code",
      "execution_count": 84,
      "metadata": {
        "id": "uOjgemROyhLv"
      },
      "outputs": [],
      "source": [
        "def validate(model, data_loader):\n",
        "    preds = []\n",
        "    true_labels = []\n",
        "    macro_f1s = []\n",
        "    weighted_f1s = []\n",
        "    accs = []\n",
        "\n",
        "    model.eval()\n",
        "    for adapter_embeds, nmt_embeds, labels in tqdm(data_loader):\n",
        "        with torch.no_grad():\n",
        "            logits = model(adapter_embeds, nmt_embeds)\n",
        "            outputs = torch.sigmoid(logits)\n",
        "            for i in outputs:\n",
        "                x = [1 if j > np.average(i) else 0 for j in i]\n",
        "                preds.extend(x)\n",
        "\n",
        "            true_labels.extend(labels.detach().numpy())\n",
        "\n",
        "    # preds = np.array(preds) > 0.5\n",
        "    true_labels = np.array(true_labels).flatten()\n",
        "    macro_f1 = f1_score(true_labels, preds, average='macro')\n",
        "    weighted_f1 = f1_score(true_labels, preds, average='weighted')\n",
        "    accuracy = accuracy_score(true_labels, preds)\n",
        "    # macro_f1s.append(macro_f1)\n",
        "    # weighted_f1s.append(weighted_f1)\n",
        "    # accs.append(accuracy)\n",
        "\n",
        "    return macro_f1, weighted_f1, accuracy"
      ]
    },
    {
      "cell_type": "code",
      "execution_count": 76,
      "metadata": {
        "colab": {
          "base_uri": "https://localhost:8080/"
        },
        "id": "fsOKYBgn1xnj",
        "outputId": "647da338-70da-4cf7-900a-b6083658c51f"
      },
      "outputs": [
        {
          "name": "stderr",
          "output_type": "stream",
          "text": [
            "100%|██████████| 16/16 [00:09<00:00,  1.64it/s]\n",
            "100%|██████████| 16/16 [00:10<00:00,  1.49it/s]\n",
            "100%|██████████| 16/16 [00:08<00:00,  1.91it/s]\n",
            "100%|██████████| 16/16 [00:07<00:00,  2.13it/s]\n",
            "100%|██████████| 16/16 [00:05<00:00,  2.69it/s]\n",
            "100%|██████████| 15/15 [00:07<00:00,  2.10it/s]\n"
          ]
        }
      ],
      "source": [
        "co_attention_macro_f1s = {}\n",
        "co_attention_weighted_f1s = {}\n",
        "co_attention_accuracies = {}\n",
        "\n",
        "for i in langs:\n",
        "    co_attention_macro_f1s[i], co_attention_weighted_f1s[i], co_attention_accuracies[i] = validate(co_attention_model, test_dataloaders[i])"
      ]
    },
    {
      "cell_type": "code",
      "execution_count": 85,
      "metadata": {
        "colab": {
          "base_uri": "https://localhost:8080/"
        },
        "id": "QOhSVWHF0B3X",
        "outputId": "f21f6a23-9d20-46e9-fb28-ddbcf5210741"
      },
      "outputs": [
        {
          "name": "stderr",
          "output_type": "stream",
          "text": [
            "100%|██████████| 16/16 [00:22<00:00,  1.43s/it]\n",
            "100%|██████████| 16/16 [00:19<00:00,  1.22s/it]\n",
            "100%|██████████| 16/16 [00:18<00:00,  1.17s/it]\n",
            "100%|██████████| 16/16 [00:18<00:00,  1.16s/it]\n",
            "100%|██████████| 16/16 [00:19<00:00,  1.22s/it]\n",
            "100%|██████████| 15/15 [00:21<00:00,  1.41s/it]\n"
          ]
        }
      ],
      "source": [
        "cross_attention_macro_f1s = {}\n",
        "cross_attention_weighted_f1s = {}\n",
        "cross_attention_accuracies = {}\n",
        "\n",
        "for i in langs:\n",
        "    cross_attention_macro_f1s[i], cross_attention_weighted_f1s[i], cross_attention_accuracies[i] = validate(cross_attention_model, test_dataloaders[i])"
      ]
    },
    {
      "cell_type": "code",
      "execution_count": 78,
      "metadata": {
        "id": "uD3tNHUO1av7"
      },
      "outputs": [],
      "source": [
        "pickle.dump(co_attention_macro_f1s, open(f'/content/drive/MyDrive/NLP/Project/Novelty_models/Co Attention Model New/macro_f1s_above_median.pkl', 'wb'))\n",
        "pickle.dump(co_attention_weighted_f1s, open(f'/content/drive/MyDrive/NLP/Project/Novelty_models/Co Attention Model New/weighted_f1s_above_median.pkl', 'wb'))\n",
        "pickle.dump(co_attention_accuracies, open(f'/content/drive/MyDrive/NLP/Project/Novelty_models/Co Attention Model New/accuracies_f1s_above_median.pkl', 'wb'))"
      ]
    },
    {
      "cell_type": "code",
      "execution_count": 86,
      "metadata": {
        "id": "WK96tZIt2_3p"
      },
      "outputs": [],
      "source": [
        "pickle.dump(cross_attention_macro_f1s, open(f'/content/drive/MyDrive/NLP/Project/Novelty_models/Cross Attention Model New/macro_f1s_above_avg.pkl', 'wb'))\n",
        "pickle.dump(cross_attention_weighted_f1s, open(f'/content/drive/MyDrive/NLP/Project/Novelty_models/Cross Attention Model New/weighted_f1s_above_avg.pkl', 'wb'))\n",
        "pickle.dump(cross_attention_accuracies, open(f'/content/drive/MyDrive/NLP/Project/Novelty_models/Cross Attention Model New/accuracies_f1s_above_avg.pkl', 'wb'))"
      ]
    },
    {
      "cell_type": "markdown",
      "metadata": {
        "id": "pSm9RHSA39lp"
      },
      "source": [
        "## Results in a df"
      ]
    },
    {
      "cell_type": "code",
      "execution_count": 82,
      "metadata": {
        "id": "8XtZYr9h3_FE"
      },
      "outputs": [],
      "source": [
        "co_attention_macro_f1s = pickle.load(open('/content/drive/MyDrive/NLP/Project/Novelty_models/Co Attention Model New/macro_f1s_above_avg.pkl', 'rb'))\n",
        "co_attention_weighted_f1s = pickle.load(open('/content/drive/MyDrive/NLP/Project/Novelty_models/Co Attention Model New/weighted_f1s_above_avg.pkl', 'rb'))\n",
        "co_attention_accuracies_f1s = pickle.load(open('/content/drive/MyDrive/NLP/Project/Novelty_models/Co Attention Model New/accuracies_f1s_above_avg.pkl', 'rb'))\n",
        "\n",
        "cross_attention_macro_f1s = pickle.load(open('/content/drive/MyDrive/NLP/Project/Novelty_models/Cross Attention Model New/macro_f1s_above_avg.pkl', 'rb'))\n",
        "cross_attention_weighted_f1s = pickle.load(open('/content/drive/MyDrive/NLP/Project/Novelty_models/Cross Attention Model New/weighted_f1s_above_avg.pkl', 'rb'))\n",
        "cross_attention_accuracies_f1s = pickle.load(open('/content/drive/MyDrive/NLP/Project/Novelty_models/Cross Attention Model New/accuracies_f1s_above_avg.pkl', 'rb'))"
      ]
    },
    {
      "cell_type": "code",
      "execution_count": 90,
      "metadata": {
        "colab": {
          "base_uri": "https://localhost:8080/",
          "height": 161
        },
        "id": "QEGPa8t-4YWd",
        "outputId": "8c51ca6d-e3af-4a62-e25d-5e5dcb5bc3a8"
      },
      "outputs": [
        {
          "name": "stdout",
          "output_type": "stream",
          "text": [
            "CO-ATTENTION ABOVE AVG\n"
          ]
        },
        {
          "data": {
            "application/vnd.google.colaboratory.intrinsic+json": {
              "summary": "{\n  \"name\": \"pd\",\n  \"rows\": 3,\n  \"fields\": [\n    {\n      \"column\": \"en\",\n      \"properties\": {\n        \"dtype\": \"number\",\n        \"std\": 0.04135121248021441,\n        \"min\": 0.8058879432190494,\n        \"max\": 0.8809225054506614,\n        \"num_unique_values\": 3,\n        \"samples\": [\n          0.8058879432190494,\n          0.8809225054506614,\n          0.8735238095238095\n        ],\n        \"semantic_type\": \"\",\n        \"description\": \"\"\n      }\n    },\n    {\n      \"column\": \"es\",\n      \"properties\": {\n        \"dtype\": \"number\",\n        \"std\": 0.0668181779644259,\n        \"min\": 0.6439963516163425,\n        \"max\": 0.769310100831747,\n        \"num_unique_values\": 3,\n        \"samples\": [\n          0.6439963516163425,\n          0.769310100831747,\n          0.7468571428571429\n        ],\n        \"semantic_type\": \"\",\n        \"description\": \"\"\n      }\n    },\n    {\n      \"column\": \"de\",\n      \"properties\": {\n        \"dtype\": \"number\",\n        \"std\": 0.07635383783872746,\n        \"min\": 0.5675167667526908,\n        \"max\": 0.7126845477862811,\n        \"num_unique_values\": 3,\n        \"samples\": [\n          0.5675167667526908,\n          0.7126845477862811,\n          0.6811428571428572\n        ],\n        \"semantic_type\": \"\",\n        \"description\": \"\"\n      }\n    },\n    {\n      \"column\": \"bg\",\n      \"properties\": {\n        \"dtype\": \"number\",\n        \"std\": 0.05115918886104412,\n        \"min\": 0.7189232173704525,\n        \"max\": 0.8155486502318816,\n        \"num_unique_values\": 3,\n        \"samples\": [\n          0.7189232173704525,\n          0.8155486502318816,\n          0.7963809523809524\n        ],\n        \"semantic_type\": \"\",\n        \"description\": \"\"\n      }\n    },\n    {\n      \"column\": \"hu\",\n      \"properties\": {\n        \"dtype\": \"number\",\n        \"std\": 0.07347909007732792,\n        \"min\": 0.5904905296534809,\n        \"max\": 0.7297091743770876,\n        \"num_unique_values\": 3,\n        \"samples\": [\n          0.5904905296534809,\n          0.7297091743770876,\n          0.7008571428571428\n        ],\n        \"semantic_type\": \"\",\n        \"description\": \"\"\n      }\n    },\n    {\n      \"column\": \"lv\",\n      \"properties\": {\n        \"dtype\": \"number\",\n        \"std\": 0.07139288606186282,\n        \"min\": 0.6082868087281377,\n        \"max\": 0.7431288923681698,\n        \"num_unique_values\": 3,\n        \"samples\": [\n          0.6082868087281377,\n          0.7431288923681698,\n          0.7163777644949193\n        ],\n        \"semantic_type\": \"\",\n        \"description\": \"\"\n      }\n    }\n  ]\n}",
              "type": "dataframe"
            },
            "text/html": [
              "\n",
              "  <div id=\"df-ceb0a05f-b358-434f-a8cb-017b79615385\" class=\"colab-df-container\">\n",
              "    <div>\n",
              "<style scoped>\n",
              "    .dataframe tbody tr th:only-of-type {\n",
              "        vertical-align: middle;\n",
              "    }\n",
              "\n",
              "    .dataframe tbody tr th {\n",
              "        vertical-align: top;\n",
              "    }\n",
              "\n",
              "    .dataframe thead th {\n",
              "        text-align: right;\n",
              "    }\n",
              "</style>\n",
              "<table border=\"1\" class=\"dataframe\">\n",
              "  <thead>\n",
              "    <tr style=\"text-align: right;\">\n",
              "      <th></th>\n",
              "      <th>en</th>\n",
              "      <th>es</th>\n",
              "      <th>de</th>\n",
              "      <th>bg</th>\n",
              "      <th>hu</th>\n",
              "      <th>lv</th>\n",
              "    </tr>\n",
              "  </thead>\n",
              "  <tbody>\n",
              "    <tr>\n",
              "      <th>macro_F1</th>\n",
              "      <td>0.805888</td>\n",
              "      <td>0.643996</td>\n",
              "      <td>0.567517</td>\n",
              "      <td>0.718923</td>\n",
              "      <td>0.590491</td>\n",
              "      <td>0.608287</td>\n",
              "    </tr>\n",
              "    <tr>\n",
              "      <th>weighted_F1</th>\n",
              "      <td>0.880923</td>\n",
              "      <td>0.769310</td>\n",
              "      <td>0.712685</td>\n",
              "      <td>0.815549</td>\n",
              "      <td>0.729709</td>\n",
              "      <td>0.743129</td>\n",
              "    </tr>\n",
              "    <tr>\n",
              "      <th>Accuracy</th>\n",
              "      <td>0.873524</td>\n",
              "      <td>0.746857</td>\n",
              "      <td>0.681143</td>\n",
              "      <td>0.796381</td>\n",
              "      <td>0.700857</td>\n",
              "      <td>0.716378</td>\n",
              "    </tr>\n",
              "  </tbody>\n",
              "</table>\n",
              "</div>\n",
              "    <div class=\"colab-df-buttons\">\n",
              "\n",
              "  <div class=\"colab-df-container\">\n",
              "    <button class=\"colab-df-convert\" onclick=\"convertToInteractive('df-ceb0a05f-b358-434f-a8cb-017b79615385')\"\n",
              "            title=\"Convert this dataframe to an interactive table.\"\n",
              "            style=\"display:none;\">\n",
              "\n",
              "  <svg xmlns=\"http://www.w3.org/2000/svg\" height=\"24px\" viewBox=\"0 -960 960 960\">\n",
              "    <path d=\"M120-120v-720h720v720H120Zm60-500h600v-160H180v160Zm220 220h160v-160H400v160Zm0 220h160v-160H400v160ZM180-400h160v-160H180v160Zm440 0h160v-160H620v160ZM180-180h160v-160H180v160Zm440 0h160v-160H620v160Z\"/>\n",
              "  </svg>\n",
              "    </button>\n",
              "\n",
              "  <style>\n",
              "    .colab-df-container {\n",
              "      display:flex;\n",
              "      gap: 12px;\n",
              "    }\n",
              "\n",
              "    .colab-df-convert {\n",
              "      background-color: #E8F0FE;\n",
              "      border: none;\n",
              "      border-radius: 50%;\n",
              "      cursor: pointer;\n",
              "      display: none;\n",
              "      fill: #1967D2;\n",
              "      height: 32px;\n",
              "      padding: 0 0 0 0;\n",
              "      width: 32px;\n",
              "    }\n",
              "\n",
              "    .colab-df-convert:hover {\n",
              "      background-color: #E2EBFA;\n",
              "      box-shadow: 0px 1px 2px rgba(60, 64, 67, 0.3), 0px 1px 3px 1px rgba(60, 64, 67, 0.15);\n",
              "      fill: #174EA6;\n",
              "    }\n",
              "\n",
              "    .colab-df-buttons div {\n",
              "      margin-bottom: 4px;\n",
              "    }\n",
              "\n",
              "    [theme=dark] .colab-df-convert {\n",
              "      background-color: #3B4455;\n",
              "      fill: #D2E3FC;\n",
              "    }\n",
              "\n",
              "    [theme=dark] .colab-df-convert:hover {\n",
              "      background-color: #434B5C;\n",
              "      box-shadow: 0px 1px 3px 1px rgba(0, 0, 0, 0.15);\n",
              "      filter: drop-shadow(0px 1px 2px rgba(0, 0, 0, 0.3));\n",
              "      fill: #FFFFFF;\n",
              "    }\n",
              "  </style>\n",
              "\n",
              "    <script>\n",
              "      const buttonEl =\n",
              "        document.querySelector('#df-ceb0a05f-b358-434f-a8cb-017b79615385 button.colab-df-convert');\n",
              "      buttonEl.style.display =\n",
              "        google.colab.kernel.accessAllowed ? 'block' : 'none';\n",
              "\n",
              "      async function convertToInteractive(key) {\n",
              "        const element = document.querySelector('#df-ceb0a05f-b358-434f-a8cb-017b79615385');\n",
              "        const dataTable =\n",
              "          await google.colab.kernel.invokeFunction('convertToInteractive',\n",
              "                                                    [key], {});\n",
              "        if (!dataTable) return;\n",
              "\n",
              "        const docLinkHtml = 'Like what you see? Visit the ' +\n",
              "          '<a target=\"_blank\" href=https://colab.research.google.com/notebooks/data_table.ipynb>data table notebook</a>'\n",
              "          + ' to learn more about interactive tables.';\n",
              "        element.innerHTML = '';\n",
              "        dataTable['output_type'] = 'display_data';\n",
              "        await google.colab.output.renderOutput(dataTable, element);\n",
              "        const docLink = document.createElement('div');\n",
              "        docLink.innerHTML = docLinkHtml;\n",
              "        element.appendChild(docLink);\n",
              "      }\n",
              "    </script>\n",
              "  </div>\n",
              "\n",
              "\n",
              "<div id=\"df-1c801b79-66cf-4873-a9a3-bdc646b17061\">\n",
              "  <button class=\"colab-df-quickchart\" onclick=\"quickchart('df-1c801b79-66cf-4873-a9a3-bdc646b17061')\"\n",
              "            title=\"Suggest charts\"\n",
              "            style=\"display:none;\">\n",
              "\n",
              "<svg xmlns=\"http://www.w3.org/2000/svg\" height=\"24px\"viewBox=\"0 0 24 24\"\n",
              "     width=\"24px\">\n",
              "    <g>\n",
              "        <path d=\"M19 3H5c-1.1 0-2 .9-2 2v14c0 1.1.9 2 2 2h14c1.1 0 2-.9 2-2V5c0-1.1-.9-2-2-2zM9 17H7v-7h2v7zm4 0h-2V7h2v10zm4 0h-2v-4h2v4z\"/>\n",
              "    </g>\n",
              "</svg>\n",
              "  </button>\n",
              "\n",
              "<style>\n",
              "  .colab-df-quickchart {\n",
              "      --bg-color: #E8F0FE;\n",
              "      --fill-color: #1967D2;\n",
              "      --hover-bg-color: #E2EBFA;\n",
              "      --hover-fill-color: #174EA6;\n",
              "      --disabled-fill-color: #AAA;\n",
              "      --disabled-bg-color: #DDD;\n",
              "  }\n",
              "\n",
              "  [theme=dark] .colab-df-quickchart {\n",
              "      --bg-color: #3B4455;\n",
              "      --fill-color: #D2E3FC;\n",
              "      --hover-bg-color: #434B5C;\n",
              "      --hover-fill-color: #FFFFFF;\n",
              "      --disabled-bg-color: #3B4455;\n",
              "      --disabled-fill-color: #666;\n",
              "  }\n",
              "\n",
              "  .colab-df-quickchart {\n",
              "    background-color: var(--bg-color);\n",
              "    border: none;\n",
              "    border-radius: 50%;\n",
              "    cursor: pointer;\n",
              "    display: none;\n",
              "    fill: var(--fill-color);\n",
              "    height: 32px;\n",
              "    padding: 0;\n",
              "    width: 32px;\n",
              "  }\n",
              "\n",
              "  .colab-df-quickchart:hover {\n",
              "    background-color: var(--hover-bg-color);\n",
              "    box-shadow: 0 1px 2px rgba(60, 64, 67, 0.3), 0 1px 3px 1px rgba(60, 64, 67, 0.15);\n",
              "    fill: var(--button-hover-fill-color);\n",
              "  }\n",
              "\n",
              "  .colab-df-quickchart-complete:disabled,\n",
              "  .colab-df-quickchart-complete:disabled:hover {\n",
              "    background-color: var(--disabled-bg-color);\n",
              "    fill: var(--disabled-fill-color);\n",
              "    box-shadow: none;\n",
              "  }\n",
              "\n",
              "  .colab-df-spinner {\n",
              "    border: 2px solid var(--fill-color);\n",
              "    border-color: transparent;\n",
              "    border-bottom-color: var(--fill-color);\n",
              "    animation:\n",
              "      spin 1s steps(1) infinite;\n",
              "  }\n",
              "\n",
              "  @keyframes spin {\n",
              "    0% {\n",
              "      border-color: transparent;\n",
              "      border-bottom-color: var(--fill-color);\n",
              "      border-left-color: var(--fill-color);\n",
              "    }\n",
              "    20% {\n",
              "      border-color: transparent;\n",
              "      border-left-color: var(--fill-color);\n",
              "      border-top-color: var(--fill-color);\n",
              "    }\n",
              "    30% {\n",
              "      border-color: transparent;\n",
              "      border-left-color: var(--fill-color);\n",
              "      border-top-color: var(--fill-color);\n",
              "      border-right-color: var(--fill-color);\n",
              "    }\n",
              "    40% {\n",
              "      border-color: transparent;\n",
              "      border-right-color: var(--fill-color);\n",
              "      border-top-color: var(--fill-color);\n",
              "    }\n",
              "    60% {\n",
              "      border-color: transparent;\n",
              "      border-right-color: var(--fill-color);\n",
              "    }\n",
              "    80% {\n",
              "      border-color: transparent;\n",
              "      border-right-color: var(--fill-color);\n",
              "      border-bottom-color: var(--fill-color);\n",
              "    }\n",
              "    90% {\n",
              "      border-color: transparent;\n",
              "      border-bottom-color: var(--fill-color);\n",
              "    }\n",
              "  }\n",
              "</style>\n",
              "\n",
              "  <script>\n",
              "    async function quickchart(key) {\n",
              "      const quickchartButtonEl =\n",
              "        document.querySelector('#' + key + ' button');\n",
              "      quickchartButtonEl.disabled = true;  // To prevent multiple clicks.\n",
              "      quickchartButtonEl.classList.add('colab-df-spinner');\n",
              "      try {\n",
              "        const charts = await google.colab.kernel.invokeFunction(\n",
              "            'suggestCharts', [key], {});\n",
              "      } catch (error) {\n",
              "        console.error('Error during call to suggestCharts:', error);\n",
              "      }\n",
              "      quickchartButtonEl.classList.remove('colab-df-spinner');\n",
              "      quickchartButtonEl.classList.add('colab-df-quickchart-complete');\n",
              "    }\n",
              "    (() => {\n",
              "      let quickchartButtonEl =\n",
              "        document.querySelector('#df-1c801b79-66cf-4873-a9a3-bdc646b17061 button');\n",
              "      quickchartButtonEl.style.display =\n",
              "        google.colab.kernel.accessAllowed ? 'block' : 'none';\n",
              "    })();\n",
              "  </script>\n",
              "</div>\n",
              "    </div>\n",
              "  </div>\n"
            ],
            "text/plain": [
              "                   en        es        de        bg        hu        lv\n",
              "macro_F1     0.805888  0.643996  0.567517  0.718923  0.590491  0.608287\n",
              "weighted_F1  0.880923  0.769310  0.712685  0.815549  0.729709  0.743129\n",
              "Accuracy     0.873524  0.746857  0.681143  0.796381  0.700857  0.716378"
            ]
          },
          "execution_count": 90,
          "metadata": {},
          "output_type": "execute_result"
        }
      ],
      "source": [
        "import pandas as pd\n",
        "print(\"CO-ATTENTION ABOVE AVG\")\n",
        "pd.DataFrame([co_attention_macro_f1s, co_attention_weighted_f1s, co_attention_accuracies_f1s], index = ['macro_F1', 'weighted_F1', 'Accuracy'])"
      ]
    },
    {
      "cell_type": "code",
      "execution_count": 91,
      "metadata": {
        "colab": {
          "base_uri": "https://localhost:8080/",
          "height": 161
        },
        "id": "gsoo5LLa5XAt",
        "outputId": "e86f4872-e8e6-48c1-a268-02e69a415ba7"
      },
      "outputs": [
        {
          "name": "stdout",
          "output_type": "stream",
          "text": [
            "CROSS-ATTENTION ABOVE AVG\n"
          ]
        },
        {
          "data": {
            "application/vnd.google.colaboratory.intrinsic+json": {
              "summary": "{\n  \"name\": \"pd\",\n  \"rows\": 3,\n  \"fields\": [\n    {\n      \"column\": \"en\",\n      \"properties\": {\n        \"dtype\": \"number\",\n        \"std\": 0.04082050480178763,\n        \"min\": 0.8082927950153456,\n        \"max\": 0.8823738424727233,\n        \"num_unique_values\": 3,\n        \"samples\": [\n          0.8082927950153456,\n          0.8823738424727233,\n          0.8750476190476191\n        ],\n        \"semantic_type\": \"\",\n        \"description\": \"\"\n      }\n    },\n    {\n      \"column\": \"es\",\n      \"properties\": {\n        \"dtype\": \"number\",\n        \"std\": 0.06715525273416974,\n        \"min\": 0.6320706841666761,\n        \"max\": 0.7588286708660024,\n        \"num_unique_values\": 3,\n        \"samples\": [\n          0.6320706841666761,\n          0.7588286708660024,\n          0.733904761904762\n        ],\n        \"semantic_type\": \"\",\n        \"description\": \"\"\n      }\n    },\n    {\n      \"column\": \"de\",\n      \"properties\": {\n        \"dtype\": \"number\",\n        \"std\": 0.07307590591697279,\n        \"min\": 0.5751916997784612,\n        \"max\": 0.7148689463171319,\n        \"num_unique_values\": 3,\n        \"samples\": [\n          0.5751916997784612,\n          0.7148689463171319,\n          0.6822857142857143\n        ],\n        \"semantic_type\": \"\",\n        \"description\": \"\"\n      }\n    },\n    {\n      \"column\": \"bg\",\n      \"properties\": {\n        \"dtype\": \"number\",\n        \"std\": 0.04995124319922051,\n        \"min\": 0.7300648705462742,\n        \"max\": 0.8240554452722723,\n        \"num_unique_values\": 3,\n        \"samples\": [\n          0.7300648705462742,\n          0.8240554452722723,\n          0.8063809523809524\n        ],\n        \"semantic_type\": \"\",\n        \"description\": \"\"\n      }\n    },\n    {\n      \"column\": \"hu\",\n      \"properties\": {\n        \"dtype\": \"number\",\n        \"std\": 0.07476292513173542,\n        \"min\": 0.5776225310168842,\n        \"max\": 0.7196879686766899,\n        \"num_unique_values\": 3,\n        \"samples\": [\n          0.5776225310168842,\n          0.7196879686766899,\n          0.689047619047619\n        ],\n        \"semantic_type\": \"\",\n        \"description\": \"\"\n      }\n    },\n    {\n      \"column\": \"lv\",\n      \"properties\": {\n        \"dtype\": \"number\",\n        \"std\": 0.07247951560167187,\n        \"min\": 0.5988100133257835,\n        \"max\": 0.7359714878505061,\n        \"num_unique_values\": 3,\n        \"samples\": [\n          0.5988100133257835,\n          0.7359714878505061,\n          0.7080095636580992\n        ],\n        \"semantic_type\": \"\",\n        \"description\": \"\"\n      }\n    }\n  ]\n}",
              "type": "dataframe"
            },
            "text/html": [
              "\n",
              "  <div id=\"df-9e015038-9071-447e-96e0-300d0cf2bf78\" class=\"colab-df-container\">\n",
              "    <div>\n",
              "<style scoped>\n",
              "    .dataframe tbody tr th:only-of-type {\n",
              "        vertical-align: middle;\n",
              "    }\n",
              "\n",
              "    .dataframe tbody tr th {\n",
              "        vertical-align: top;\n",
              "    }\n",
              "\n",
              "    .dataframe thead th {\n",
              "        text-align: right;\n",
              "    }\n",
              "</style>\n",
              "<table border=\"1\" class=\"dataframe\">\n",
              "  <thead>\n",
              "    <tr style=\"text-align: right;\">\n",
              "      <th></th>\n",
              "      <th>en</th>\n",
              "      <th>es</th>\n",
              "      <th>de</th>\n",
              "      <th>bg</th>\n",
              "      <th>hu</th>\n",
              "      <th>lv</th>\n",
              "    </tr>\n",
              "  </thead>\n",
              "  <tbody>\n",
              "    <tr>\n",
              "      <th>macro_F1</th>\n",
              "      <td>0.808293</td>\n",
              "      <td>0.632071</td>\n",
              "      <td>0.575192</td>\n",
              "      <td>0.730065</td>\n",
              "      <td>0.577623</td>\n",
              "      <td>0.598810</td>\n",
              "    </tr>\n",
              "    <tr>\n",
              "      <th>weighted_F1</th>\n",
              "      <td>0.882374</td>\n",
              "      <td>0.758829</td>\n",
              "      <td>0.714869</td>\n",
              "      <td>0.824055</td>\n",
              "      <td>0.719688</td>\n",
              "      <td>0.735971</td>\n",
              "    </tr>\n",
              "    <tr>\n",
              "      <th>Accuracy</th>\n",
              "      <td>0.875048</td>\n",
              "      <td>0.733905</td>\n",
              "      <td>0.682286</td>\n",
              "      <td>0.806381</td>\n",
              "      <td>0.689048</td>\n",
              "      <td>0.708010</td>\n",
              "    </tr>\n",
              "  </tbody>\n",
              "</table>\n",
              "</div>\n",
              "    <div class=\"colab-df-buttons\">\n",
              "\n",
              "  <div class=\"colab-df-container\">\n",
              "    <button class=\"colab-df-convert\" onclick=\"convertToInteractive('df-9e015038-9071-447e-96e0-300d0cf2bf78')\"\n",
              "            title=\"Convert this dataframe to an interactive table.\"\n",
              "            style=\"display:none;\">\n",
              "\n",
              "  <svg xmlns=\"http://www.w3.org/2000/svg\" height=\"24px\" viewBox=\"0 -960 960 960\">\n",
              "    <path d=\"M120-120v-720h720v720H120Zm60-500h600v-160H180v160Zm220 220h160v-160H400v160Zm0 220h160v-160H400v160ZM180-400h160v-160H180v160Zm440 0h160v-160H620v160ZM180-180h160v-160H180v160Zm440 0h160v-160H620v160Z\"/>\n",
              "  </svg>\n",
              "    </button>\n",
              "\n",
              "  <style>\n",
              "    .colab-df-container {\n",
              "      display:flex;\n",
              "      gap: 12px;\n",
              "    }\n",
              "\n",
              "    .colab-df-convert {\n",
              "      background-color: #E8F0FE;\n",
              "      border: none;\n",
              "      border-radius: 50%;\n",
              "      cursor: pointer;\n",
              "      display: none;\n",
              "      fill: #1967D2;\n",
              "      height: 32px;\n",
              "      padding: 0 0 0 0;\n",
              "      width: 32px;\n",
              "    }\n",
              "\n",
              "    .colab-df-convert:hover {\n",
              "      background-color: #E2EBFA;\n",
              "      box-shadow: 0px 1px 2px rgba(60, 64, 67, 0.3), 0px 1px 3px 1px rgba(60, 64, 67, 0.15);\n",
              "      fill: #174EA6;\n",
              "    }\n",
              "\n",
              "    .colab-df-buttons div {\n",
              "      margin-bottom: 4px;\n",
              "    }\n",
              "\n",
              "    [theme=dark] .colab-df-convert {\n",
              "      background-color: #3B4455;\n",
              "      fill: #D2E3FC;\n",
              "    }\n",
              "\n",
              "    [theme=dark] .colab-df-convert:hover {\n",
              "      background-color: #434B5C;\n",
              "      box-shadow: 0px 1px 3px 1px rgba(0, 0, 0, 0.15);\n",
              "      filter: drop-shadow(0px 1px 2px rgba(0, 0, 0, 0.3));\n",
              "      fill: #FFFFFF;\n",
              "    }\n",
              "  </style>\n",
              "\n",
              "    <script>\n",
              "      const buttonEl =\n",
              "        document.querySelector('#df-9e015038-9071-447e-96e0-300d0cf2bf78 button.colab-df-convert');\n",
              "      buttonEl.style.display =\n",
              "        google.colab.kernel.accessAllowed ? 'block' : 'none';\n",
              "\n",
              "      async function convertToInteractive(key) {\n",
              "        const element = document.querySelector('#df-9e015038-9071-447e-96e0-300d0cf2bf78');\n",
              "        const dataTable =\n",
              "          await google.colab.kernel.invokeFunction('convertToInteractive',\n",
              "                                                    [key], {});\n",
              "        if (!dataTable) return;\n",
              "\n",
              "        const docLinkHtml = 'Like what you see? Visit the ' +\n",
              "          '<a target=\"_blank\" href=https://colab.research.google.com/notebooks/data_table.ipynb>data table notebook</a>'\n",
              "          + ' to learn more about interactive tables.';\n",
              "        element.innerHTML = '';\n",
              "        dataTable['output_type'] = 'display_data';\n",
              "        await google.colab.output.renderOutput(dataTable, element);\n",
              "        const docLink = document.createElement('div');\n",
              "        docLink.innerHTML = docLinkHtml;\n",
              "        element.appendChild(docLink);\n",
              "      }\n",
              "    </script>\n",
              "  </div>\n",
              "\n",
              "\n",
              "<div id=\"df-f93bbb76-035f-42a7-ba43-cc4a98304197\">\n",
              "  <button class=\"colab-df-quickchart\" onclick=\"quickchart('df-f93bbb76-035f-42a7-ba43-cc4a98304197')\"\n",
              "            title=\"Suggest charts\"\n",
              "            style=\"display:none;\">\n",
              "\n",
              "<svg xmlns=\"http://www.w3.org/2000/svg\" height=\"24px\"viewBox=\"0 0 24 24\"\n",
              "     width=\"24px\">\n",
              "    <g>\n",
              "        <path d=\"M19 3H5c-1.1 0-2 .9-2 2v14c0 1.1.9 2 2 2h14c1.1 0 2-.9 2-2V5c0-1.1-.9-2-2-2zM9 17H7v-7h2v7zm4 0h-2V7h2v10zm4 0h-2v-4h2v4z\"/>\n",
              "    </g>\n",
              "</svg>\n",
              "  </button>\n",
              "\n",
              "<style>\n",
              "  .colab-df-quickchart {\n",
              "      --bg-color: #E8F0FE;\n",
              "      --fill-color: #1967D2;\n",
              "      --hover-bg-color: #E2EBFA;\n",
              "      --hover-fill-color: #174EA6;\n",
              "      --disabled-fill-color: #AAA;\n",
              "      --disabled-bg-color: #DDD;\n",
              "  }\n",
              "\n",
              "  [theme=dark] .colab-df-quickchart {\n",
              "      --bg-color: #3B4455;\n",
              "      --fill-color: #D2E3FC;\n",
              "      --hover-bg-color: #434B5C;\n",
              "      --hover-fill-color: #FFFFFF;\n",
              "      --disabled-bg-color: #3B4455;\n",
              "      --disabled-fill-color: #666;\n",
              "  }\n",
              "\n",
              "  .colab-df-quickchart {\n",
              "    background-color: var(--bg-color);\n",
              "    border: none;\n",
              "    border-radius: 50%;\n",
              "    cursor: pointer;\n",
              "    display: none;\n",
              "    fill: var(--fill-color);\n",
              "    height: 32px;\n",
              "    padding: 0;\n",
              "    width: 32px;\n",
              "  }\n",
              "\n",
              "  .colab-df-quickchart:hover {\n",
              "    background-color: var(--hover-bg-color);\n",
              "    box-shadow: 0 1px 2px rgba(60, 64, 67, 0.3), 0 1px 3px 1px rgba(60, 64, 67, 0.15);\n",
              "    fill: var(--button-hover-fill-color);\n",
              "  }\n",
              "\n",
              "  .colab-df-quickchart-complete:disabled,\n",
              "  .colab-df-quickchart-complete:disabled:hover {\n",
              "    background-color: var(--disabled-bg-color);\n",
              "    fill: var(--disabled-fill-color);\n",
              "    box-shadow: none;\n",
              "  }\n",
              "\n",
              "  .colab-df-spinner {\n",
              "    border: 2px solid var(--fill-color);\n",
              "    border-color: transparent;\n",
              "    border-bottom-color: var(--fill-color);\n",
              "    animation:\n",
              "      spin 1s steps(1) infinite;\n",
              "  }\n",
              "\n",
              "  @keyframes spin {\n",
              "    0% {\n",
              "      border-color: transparent;\n",
              "      border-bottom-color: var(--fill-color);\n",
              "      border-left-color: var(--fill-color);\n",
              "    }\n",
              "    20% {\n",
              "      border-color: transparent;\n",
              "      border-left-color: var(--fill-color);\n",
              "      border-top-color: var(--fill-color);\n",
              "    }\n",
              "    30% {\n",
              "      border-color: transparent;\n",
              "      border-left-color: var(--fill-color);\n",
              "      border-top-color: var(--fill-color);\n",
              "      border-right-color: var(--fill-color);\n",
              "    }\n",
              "    40% {\n",
              "      border-color: transparent;\n",
              "      border-right-color: var(--fill-color);\n",
              "      border-top-color: var(--fill-color);\n",
              "    }\n",
              "    60% {\n",
              "      border-color: transparent;\n",
              "      border-right-color: var(--fill-color);\n",
              "    }\n",
              "    80% {\n",
              "      border-color: transparent;\n",
              "      border-right-color: var(--fill-color);\n",
              "      border-bottom-color: var(--fill-color);\n",
              "    }\n",
              "    90% {\n",
              "      border-color: transparent;\n",
              "      border-bottom-color: var(--fill-color);\n",
              "    }\n",
              "  }\n",
              "</style>\n",
              "\n",
              "  <script>\n",
              "    async function quickchart(key) {\n",
              "      const quickchartButtonEl =\n",
              "        document.querySelector('#' + key + ' button');\n",
              "      quickchartButtonEl.disabled = true;  // To prevent multiple clicks.\n",
              "      quickchartButtonEl.classList.add('colab-df-spinner');\n",
              "      try {\n",
              "        const charts = await google.colab.kernel.invokeFunction(\n",
              "            'suggestCharts', [key], {});\n",
              "      } catch (error) {\n",
              "        console.error('Error during call to suggestCharts:', error);\n",
              "      }\n",
              "      quickchartButtonEl.classList.remove('colab-df-spinner');\n",
              "      quickchartButtonEl.classList.add('colab-df-quickchart-complete');\n",
              "    }\n",
              "    (() => {\n",
              "      let quickchartButtonEl =\n",
              "        document.querySelector('#df-f93bbb76-035f-42a7-ba43-cc4a98304197 button');\n",
              "      quickchartButtonEl.style.display =\n",
              "        google.colab.kernel.accessAllowed ? 'block' : 'none';\n",
              "    })();\n",
              "  </script>\n",
              "</div>\n",
              "    </div>\n",
              "  </div>\n"
            ],
            "text/plain": [
              "                   en        es        de        bg        hu        lv\n",
              "macro_F1     0.808293  0.632071  0.575192  0.730065  0.577623  0.598810\n",
              "weighted_F1  0.882374  0.758829  0.714869  0.824055  0.719688  0.735971\n",
              "Accuracy     0.875048  0.733905  0.682286  0.806381  0.689048  0.708010"
            ]
          },
          "execution_count": 91,
          "metadata": {},
          "output_type": "execute_result"
        }
      ],
      "source": [
        "print(\"CROSS-ATTENTION ABOVE AVG\")\n",
        "pd.DataFrame([cross_attention_macro_f1s, cross_attention_weighted_f1s, cross_attention_accuracies_f1s], index = ['macro_F1', 'weighted_F1', 'Accuracy'])"
      ]
    }
  ],
  "metadata": {
    "colab": {
      "provenance": []
    },
    "kernelspec": {
      "display_name": "Python 3",
      "name": "python3"
    },
    "language_info": {
      "name": "python"
    }
  },
  "nbformat": 4,
  "nbformat_minor": 0
}
